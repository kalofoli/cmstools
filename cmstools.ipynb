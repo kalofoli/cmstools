{
 "cells": [
  {
   "cell_type": "code",
   "execution_count": 13,
   "id": "5eae8f39-6bdd-47e7-a6b8-011058103e06",
   "metadata": {},
   "outputs": [
    {
     "ename": "IndentationError",
     "evalue": "expected an indented block after function definition on line 4 (763045122.py, line 7)",
     "output_type": "error",
     "traceback": [
      "\u001b[0;36m  Cell \u001b[0;32mIn [13], line 7\u001b[0;36m\u001b[0m\n\u001b[0;31m    def __main__():\u001b[0m\n\u001b[0m    ^\u001b[0m\n\u001b[0;31mIndentationError\u001b[0m\u001b[0;31m:\u001b[0m expected an indented block after function definition on line 4\n"
     ]
    }
   ],
   "source": [
    "import argparse\n",
    "\n",
    "\n",
    "def cmdline_handler(nmsp):\n",
    "    \n",
    "\n",
    "def __main__():\n",
    "    import sys\n",
    "\n",
    "\n",
    "    ap = argparse.ArgumentParser()\n",
    "    ap_sp = ap.add_subparsers(help='Action to take', metavar='ACTION')\n",
    "    ap_cms = ap_sp.add_parser('cms')\n",
    "    ap_cms.add_argument('-s','--sid')\n",
    "    \n",
    "    ap_cms_sp = ap_cms.add_subparsers()\n",
    "    ap_cms_ft = ap_cms_sp.add_parser('fetch_team')\n",
    "    ap_cms_ft.add_argument('-n','--team-number',dest='number')\n",
    "    ap_cms_ft.add_argument('-o','--output',dest='output')\n",
    "    \n",
    "    args = 'cms -s sss fetch_team -n 4'.split()\n",
    "    return ap.parse_args(args)\n",
    "    \n",
    "__main__()\n",
    "\n"
   ]
  },
  {
   "cell_type": "code",
   "execution_count": 14,
   "id": "6d8ac4c3-cbb5-4b89-90a7-53a2ffdb2867",
   "metadata": {},
   "outputs": [
    {
     "name": "stdout",
     "output_type": "stream",
     "text": [
      "/home/janis/shared/Uni/EDA/projects/eml22/cmstools\n"
     ]
    }
   ],
   "source": [
    "!pwd\n"
   ]
  }
 ],
 "metadata": {
  "kernelspec": {
   "display_name": "Python [conda env:work]",
   "language": "python",
   "name": "conda-env-work-py"
  },
  "language_info": {
   "codemirror_mode": {
    "name": "ipython",
    "version": 3
   },
   "file_extension": ".py",
   "mimetype": "text/x-python",
   "name": "python",
   "nbconvert_exporter": "python",
   "pygments_lexer": "ipython3",
   "version": "3.10.6"
  }
 },
 "nbformat": 4,
 "nbformat_minor": 5
}
