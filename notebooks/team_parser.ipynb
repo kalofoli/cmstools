{
 "cells": [
  {
   "cell_type": "code",
   "execution_count": null,
   "id": "72a72477-b945-4840-ad29-166f1d7b1b71",
   "metadata": {},
   "outputs": [],
   "source": [
    "import requests\n",
    "import pandas as pd"
   ]
  },
  {
   "cell_type": "code",
   "execution_count": null,
   "id": "92e315ed-7a88-43dd-92ca-651a980e5c2a",
   "metadata": {},
   "outputs": [],
   "source": [
    "%load_ext autoreload\n",
    "%autoreload 2\n",
    "#%aimport constants\n",
    "#%aimport"
   ]
  },
  {
   "cell_type": "code",
   "execution_count": null,
   "id": "122094e0-a8d2-4410-88fd-c5935141f0b8",
   "metadata": {},
   "outputs": [],
   "source": [
    "import logging\n",
    "\n",
    "logging.basicConfig()\n",
    "log = logging.getLogger('cmstools')\n",
    "log.setLevel('INFO')"
   ]
  },
  {
   "cell_type": "code",
   "execution_count": null,
   "id": "eb5e07cf-785b-448b-a28c-bb3d4373da64",
   "metadata": {},
   "outputs": [],
   "source": [
    "!rm cache/keyed_test*"
   ]
  },
  {
   "cell_type": "code",
   "execution_count": null,
   "id": "f44f6827-9b2e-4807-bc64-4373b839ef3a",
   "metadata": {},
   "outputs": [],
   "source": [
    "from cmstools.cms import CMSSession\n",
    "from cmstools.controllers import CMSController, SheetController\n",
    "from cmstools.common import GatheredGradeSelector\n",
    "\n",
    "cms = CMSSession('sk19dl4ofbu13fnd0l711kril4', cache='cache', store=True)\n",
    "cmc = CMSController(cms)\n",
    "sc_ = SheetController.from_credentials()\n",
    "sc = SheetController.from_credentials(tag='devel')\n"
   ]
  },
  {
   "cell_type": "code",
   "execution_count": null,
   "id": "14b51591-f6da-4f62-9562-85920bc33c0b",
   "metadata": {},
   "outputs": [],
   "source": [
    "log.setLevel('WARN')\n",
    "rep = cmc.report(sc_,[1,2,3,4,5,6])\n",
    "log.setLevel('INFO')"
   ]
  },
  {
   "cell_type": "code",
   "execution_count": null,
   "id": "b78dcdcb-5bcc-4658-9422-49729a8651ac",
   "metadata": {},
   "outputs": [],
   "source": [
    "rep"
   ]
  },
  {
   "cell_type": "code",
   "execution_count": null,
   "id": "bda4cb0a-0c40-47b1-9cab-eef24dddee69",
   "metadata": {},
   "outputs": [],
   "source": [
    "log.setLevel('WARN')\n",
    "ns_gg = cmc.gather_grades(sc_, extra=True)\n",
    "s_gg = GatheredGradeSelector(ns_gg.merged)\n",
    "log.setLevel('INFO')"
   ]
  },
  {
   "cell_type": "code",
   "execution_count": null,
   "id": "6ce5303a-d0be-4cb3-be2e-be0633aa2482",
   "metadata": {},
   "outputs": [],
   "source": [
    "s = s_gg.assignment(5)\n",
    "s"
   ]
  },
  {
   "cell_type": "code",
   "execution_count": null,
   "id": "52aca07e-ef2f-434e-a6ed-6fd52a11d73d",
   "metadata": {},
   "outputs": [],
   "source": [
    "s_gg.gs_miss_cms.df"
   ]
  },
  {
   "cell_type": "code",
   "execution_count": null,
   "id": "c69ef921-b213-4f77-8cf1-e3e8ffd03628",
   "metadata": {},
   "outputs": [],
   "source": [
    "ev.df_priority_practical.index"
   ]
  },
  {
   "cell_type": "code",
   "execution_count": null,
   "id": "26de862c-a50a-4273-9ac2-c01c604b4180",
   "metadata": {},
   "outputs": [],
   "source": [
    "ev = EligibilityView(sc.get_worksheet_by_title('Eligibility'))\n",
    "ev\n"
   ]
  },
  {
   "cell_type": "code",
   "execution_count": null,
   "id": "32579882-8406-4840-b3e0-936a10aa68a0",
   "metadata": {},
   "outputs": [],
   "source": [
    "sc.view_grading.ws.update_borders([['AQ3:QV366','all:none']])"
   ]
  },
  {
   "cell_type": "code",
   "execution_count": null,
   "id": "74262334-9a1e-4ad9-9c99-8562768f96ec",
   "metadata": {},
   "outputs": [],
   "source": [
    "set(sc.view_eligibility.df_priority_practical.index) - set(df_a_long.MN)"
   ]
  },
  {
   "cell_type": "code",
   "execution_count": null,
   "id": "8c02d2e9-83a6-4a51-9b87-ad5af3d75e84",
   "metadata": {},
   "outputs": [],
   "source": []
  },
  {
   "cell_type": "code",
   "execution_count": null,
   "id": "2728b749-d305-4d80-ad08-68c90a3eacf3",
   "metadata": {},
   "outputs": [],
   "source": [
    "df = s_gg.assignment(6).problem([1,2,3]).df\n",
    "df_a_long = df[df.IsSub & df.MN.isin(sc.view_eligibility.df_priority_theoretical.index)]\n",
    "sc_.view_grading.update_borders_long(df_a_long, 'outer:solid+red')"
   ]
  },
  {
   "cell_type": "code",
   "execution_count": null,
   "id": "e03a5305-4c15-4c1e-aaa0-52ed5c21e929",
   "metadata": {},
   "outputs": [],
   "source": [
    "df = s_gg.assignment(6).problem(4).df\n",
    "df_a_long = df[df.IsSub & df.MN.isin(sc.view_eligibility.df_priority_practical.index)]\n",
    "sc_.view_grading.update_borders_long(df_a_long, 'outer:solid+red')"
   ]
  },
  {
   "cell_type": "code",
   "execution_count": null,
   "id": "5608c68c-c7e5-49f4-bda0-eb506d528843",
   "metadata": {},
   "outputs": [],
   "source": [
    "cmc.update_from_gathered(s_gg.assignment(5).df, ignore_collisions=True, dry=True)"
   ]
  },
  {
   "cell_type": "code",
   "execution_count": null,
   "id": "6f552f7c-8603-44a1-b00f-386b308f18c7",
   "metadata": {},
   "outputs": [],
   "source": [
    "s_gg.gs_err_collide_teamgs.assignment(5).df"
   ]
  },
  {
   "cell_type": "code",
   "execution_count": null,
   "id": "d31caac9-5c5c-4d7f-8410-de73be430882",
   "metadata": {},
   "outputs": [],
   "source": [
    "sc_."
   ]
  },
  {
   "cell_type": "code",
   "execution_count": null,
   "id": "2842b378-a71c-4d9e-ba42-8b864fc658c3",
   "metadata": {},
   "outputs": [],
   "source": [
    "s_gg.assignment(5).gs_err_collide_teamcms\n"
   ]
  },
  {
   "cell_type": "code",
   "execution_count": null,
   "id": "adaeb179-4425-4456-853e-257c924abb3b",
   "metadata": {},
   "outputs": [],
   "source": [
    "s=GatheredGradeSelector(df_gg)\n"
   ]
  },
  {
   "cell_type": "code",
   "execution_count": null,
   "id": "9b7551ff-ad46-46df-a6c3-f7c0a825c964",
   "metadata": {},
   "outputs": [],
   "source": [
    "df = s.assignment(4).df\n",
    "df = df[(df.PairMN == '7015532') | (df.MN == '7015532')]\n",
    "mns = list(df.MN.unique())+ ['2573497']"
   ]
  },
  {
   "cell_type": "code",
   "execution_count": null,
   "id": "52aae7cd-7de8-42a1-aabf-b133439226f3",
   "metadata": {},
   "outputs": [],
   "source": [
    "df_st.columns"
   ]
  },
  {
   "cell_type": "code",
   "execution_count": null,
   "id": "0f9c3891-8f1a-46db-94b8-854f36f9e893",
   "metadata": {},
   "outputs": [],
   "source": [
    "df_st[df_st.MN.isin(mns)][['MN','StudentName','Assignment','Problem','PairMN','TeamUrl','TeamId','SolutionsUrl']]"
   ]
  },
  {
   "cell_type": "code",
   "execution_count": null,
   "id": "dc7b0124-0c50-4e34-916a-a4e35558f8b0",
   "metadata": {},
   "outputs": [],
   "source": [
    "df = GatheredGradeSelector(df_gg).assignment(4).df\n",
    "df_g = df[df.MN.isin(mns)]\n",
    "df_g"
   ]
  },
  {
   "cell_type": "code",
   "execution_count": null,
   "id": "2a2da27b-444d-4f11-b3c9-42aba6534296",
   "metadata": {},
   "outputs": [],
   "source": [
    "df = df_g.merge(df_g[['PairMN','Assignment','Problem','IsSub']],left_on=['MN','Assignment','Problem'],right_on=['PairMN','Assignment','Problem'],suffixes=('','Inv'),how='left')\n",
    "df.assign(IsDual=lambda x:x.IsSub & x.IsSubInv)\n"
   ]
  },
  {
   "cell_type": "code",
   "execution_count": null,
   "id": "a3fc273d-f7d5-45a9-b2cd-aa3719be10b4",
   "metadata": {},
   "outputs": [],
   "source": [
    "s_t.iloc[2]"
   ]
  },
  {
   "cell_type": "code",
   "execution_count": null,
   "id": "d6b36641-6260-4b39-8a11-63a2ff3accc5",
   "metadata": {},
   "outputs": [],
   "source": [
    "df_st = cmc.find_submission_teams(4,None,only_columns=None)"
   ]
  },
  {
   "cell_type": "code",
   "execution_count": null,
   "id": "d287fbe5-53a7-45e3-9f26-8aa7b9ff1017",
   "metadata": {},
   "outputs": [],
   "source": [
    "s_gg.assignment(5)"
   ]
  }
 ],
 "metadata": {
  "kernelspec": {
   "display_name": "Python [conda env:work]",
   "language": "python",
   "name": "conda-env-work-py"
  },
  "language_info": {
   "codemirror_mode": {
    "name": "ipython",
    "version": 3
   },
   "file_extension": ".py",
   "mimetype": "text/x-python",
   "name": "python",
   "nbconvert_exporter": "python",
   "pygments_lexer": "ipython3"
  }
 },
 "nbformat": 4,
 "nbformat_minor": 5
}
