{
 "cells": [
  {
   "cell_type": "code",
   "execution_count": null,
   "id": "72a72477-b945-4840-ad29-166f1d7b1b71",
   "metadata": {},
   "outputs": [],
   "source": [
    "import requests\n",
    "import pandas as pd"
   ]
  },
  {
   "cell_type": "code",
   "execution_count": null,
   "id": "92e315ed-7a88-43dd-92ca-651a980e5c2a",
   "metadata": {},
   "outputs": [],
   "source": [
    "%load_ext autoreload\n",
    "%autoreload 2\n",
    "#%aimport constants\n",
    "#%aimport"
   ]
  },
  {
   "cell_type": "code",
   "execution_count": null,
   "id": "122094e0-a8d2-4410-88fd-c5935141f0b8",
   "metadata": {},
   "outputs": [],
   "source": [
    "import logging\n",
    "\n",
    "logging.basicConfig()\n",
    "log = logging.getLogger('cmstools')\n",
    "log.setLevel('INFO')"
   ]
  },
  {
   "cell_type": "code",
   "execution_count": null,
   "id": "eb5e07cf-785b-448b-a28c-bb3d4373da64",
   "metadata": {},
   "outputs": [],
   "source": [
    "!rm cache/keyed_test*"
   ]
  },
  {
   "cell_type": "code",
   "execution_count": null,
   "id": "f44f6827-9b2e-4807-bc64-4373b839ef3a",
   "metadata": {},
   "outputs": [],
   "source": [
    "from cmstools.cms import CMSSession\n",
    "from cmstools.controllers import CMSController, SheetController\n",
    "from cmstools.common import GatheredGradeSelector\n",
    "\n",
    "cms = CMSSession('2usbm5lugjmlestfd86hc2085e', cache='cache', store=True)\n",
    "cmc = CMSController(cms)\n",
    "sc_ = SheetController.from_credentials()\n",
    "sc = SheetController.from_credentials(tag='devel')\n"
   ]
  },
  {
   "cell_type": "code",
   "execution_count": null,
   "id": "14b51591-f6da-4f62-9562-85920bc33c0b",
   "metadata": {},
   "outputs": [],
   "source": [
    "log.setLevel('WARN')\n",
    "rep = cmc.report(sc_,[1,2,3,4,5])\n",
    "log.setLevel('INFO')"
   ]
  },
  {
   "cell_type": "code",
   "execution_count": null,
   "id": "b78dcdcb-5bcc-4658-9422-49729a8651ac",
   "metadata": {},
   "outputs": [],
   "source": [
    "rep"
   ]
  },
  {
   "cell_type": "code",
   "execution_count": null,
   "id": "bda4cb0a-0c40-47b1-9cab-eef24dddee69",
   "metadata": {},
   "outputs": [],
   "source": [
    "log.setLevel('WARN')\n",
    "ns_gg = cmc.gather_grades(sc_, extra=True)\n",
    "s_gg = GatheredGradeSelector(ns_gg.merged)\n",
    "log.setLevel('INFO')"
   ]
  },
  {
   "cell_type": "code",
   "execution_count": null,
   "id": "5608c68c-c7e5-49f4-bda0-eb506d528843",
   "metadata": {},
   "outputs": [],
   "source": [
    "cmc.update_from_gathered(s_gg.assignment(2).df, ignore_collisions=True, dry=True)"
   ]
  },
  {
   "cell_type": "code",
   "execution_count": null,
   "id": "adaeb179-4425-4456-853e-257c924abb3b",
   "metadata": {},
   "outputs": [],
   "source": [
    "s=GatheredGradeSelector(df_gg)\n"
   ]
  },
  {
   "cell_type": "code",
   "execution_count": null,
   "id": "9b7551ff-ad46-46df-a6c3-f7c0a825c964",
   "metadata": {},
   "outputs": [],
   "source": [
    "df = s.assignment(4).df\n",
    "df = df[(df.PairMN == '7015532') | (df.MN == '7015532')]\n",
    "mns = list(df.MN.unique())+ ['2573497']"
   ]
  },
  {
   "cell_type": "code",
   "execution_count": null,
   "id": "52aae7cd-7de8-42a1-aabf-b133439226f3",
   "metadata": {},
   "outputs": [],
   "source": [
    "df_st.columns"
   ]
  },
  {
   "cell_type": "code",
   "execution_count": null,
   "id": "0f9c3891-8f1a-46db-94b8-854f36f9e893",
   "metadata": {},
   "outputs": [],
   "source": [
    "df_st[df_st.MN.isin(mns)][['MN','StudentName','Assignment','Problem','PairMN','TeamUrl','TeamId','SolutionsUrl']]"
   ]
  },
  {
   "cell_type": "code",
   "execution_count": null,
   "id": "dc7b0124-0c50-4e34-916a-a4e35558f8b0",
   "metadata": {},
   "outputs": [],
   "source": [
    "df = GatheredGradeSelector(df_gg).assignment(4).df\n",
    "df_g = df[df.MN.isin(mns)]\n",
    "df_g"
   ]
  },
  {
   "cell_type": "code",
   "execution_count": null,
   "id": "2a2da27b-444d-4f11-b3c9-42aba6534296",
   "metadata": {},
   "outputs": [],
   "source": [
    "df = df_g.merge(df_g[['PairMN','Assignment','Problem','IsSub']],left_on=['MN','Assignment','Problem'],right_on=['PairMN','Assignment','Problem'],suffixes=('','Inv'),how='left')\n",
    "df.assign(IsDual=lambda x:x.IsSub & x.IsSubInv)\n"
   ]
  },
  {
   "cell_type": "code",
   "execution_count": null,
   "id": "a3fc273d-f7d5-45a9-b2cd-aa3719be10b4",
   "metadata": {},
   "outputs": [],
   "source": [
    "s_t.iloc[2]"
   ]
  },
  {
   "cell_type": "code",
   "execution_count": null,
   "id": "d6b36641-6260-4b39-8a11-63a2ff3accc5",
   "metadata": {},
   "outputs": [],
   "source": [
    "df_st = cmc.find_submission_teams(4,None,only_columns=None)"
   ]
  },
  {
   "cell_type": "code",
   "execution_count": null,
   "id": "38207891-5f03-4419-879c-7d7c3b71567f",
   "metadata": {},
   "outputs": [],
   "source": [
    "d"
   ]
  }
 ],
 "metadata": {
  "kernelspec": {
   "display_name": "Python [conda env:work]",
   "language": "python",
   "name": "conda-env-work-py"
  },
  "language_info": {
   "codemirror_mode": {
    "name": "ipython",
    "version": 3
   },
   "file_extension": ".py",
   "mimetype": "text/x-python",
   "name": "python",
   "nbconvert_exporter": "python",
   "pygments_lexer": "ipython3"
  }
 },
 "nbformat": 4,
 "nbformat_minor": 5
}
